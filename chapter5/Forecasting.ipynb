{
 "cells": [
  {
   "cell_type": "markdown",
   "id": "6a06a10a-ee82-40ce-8821-3da680af4b95",
   "metadata": {},
   "source": [
    "<a href=\"https://colab.research.google.com/github/PacktPublishing/Machine-Learning-for-Time-Series-with-Python/blob/master/chapter5/Forecasting.ipynb\" target=\"_parent\\\"><img src=\"https://colab.research.google.com/assets/colab-badge.svg\" alt=\"Open In Colab\"/></a>"
   ]
  },
  {
   "cell_type": "code",
   "execution_count": null,
   "id": "614a3348-214c-4472-969d-e7db10664075",
   "metadata": {},
   "outputs": [],
   "source": [
    "!pip install statsmodels yfinance pmdarima arch"
   ]
  },
  {
   "cell_type": "code",
   "execution_count": null,
   "id": "cb11cb6d-0e34-418b-9085-2b5d88ed343d",
   "metadata": {},
   "outputs": [],
   "source": [
    "import matplotlib.pyplot as plt\n",
    "import seaborn as sns\n",
    "import matplotlib as mpl\n",
    "import pandas as pd\n",
    "\n",
    "plt.style.use('seaborn-v0_8-whitegrid')\n",
    "plt.rcParams[\"font.family\"] = \"Times New Roman\"\n",
    "plt.rcParams[\"font.size\"] = \"17\"\n",
    "mpl.rcParams['lines.linewidth'] = 2\n",
    "mpl.rcParams['lines.markersize'] = 1\n",
    "# plt.style.use('.matplotlibrc')"
   ]
  },
  {
   "cell_type": "code",
   "execution_count": null,
   "id": "d90f30a7-9ad6-4773-bf95-d6a07298757d",
   "metadata": {},
   "outputs": [],
   "source": [
    "from datetime import datetime\n",
    "import yfinance as yf\n",
    "  \n",
    "start_date = datetime(2005, 1, 1)\n",
    "end_date = datetime(2021, 1, 1)\n",
    "\n",
    "df = yf.download(\n",
    "    'SPY',\n",
    "    start=start_date,\n",
    "    end = end_date\n",
    ")"
   ]
  },
  {
   "cell_type": "code",
   "execution_count": null,
   "id": "f11d3381-2b1c-400a-98d9-b41d53061e8b",
   "metadata": {},
   "outputs": [],
   "source": [
    "plt.figure(figsize = (12, 6))\n",
    "plt.title('Opening Prices between {} and {}'.format(\n",
    "    start_date.date().isoformat(),\n",
    "    end_date.date().isoformat()\n",
    "))\n",
    "df['Open'].plot()\n",
    "plt.ylabel('Price')\n",
    "plt.xlabel('Date');"
   ]
  },
  {
   "cell_type": "code",
   "execution_count": null,
   "id": "c6b1629a-92eb-4c52-a523-24427d120786",
   "metadata": {},
   "outputs": [],
   "source": [
    "df.head()"
   ]
  },
  {
   "cell_type": "code",
   "execution_count": null,
   "id": "6289d877-f934-4543-9849-87bc3ef8a3c5",
   "metadata": {},
   "outputs": [],
   "source": [
    "df1 = df.reset_index().resample('W', on=\"Date\")['Open'].mean()"
   ]
  },
  {
   "cell_type": "code",
   "execution_count": null,
   "id": "6db93897-2993-4490-9558-dec619e30f85",
   "metadata": {},
   "outputs": [],
   "source": [
    "# some years have 53 weeks. We can't handle that, so we'll get rid of the 53rd week.\n",
    "df1 = df1[df1.index.week < 53]"
   ]
  },
  {
   "cell_type": "code",
   "execution_count": null,
   "id": "567145da-61fc-4bc2-859c-3e36ad5c7421",
   "metadata": {},
   "outputs": [],
   "source": [
    "# final check: \n",
    "df1.index.week.value_counts().plot.bar()"
   ]
  },
  {
   "cell_type": "code",
   "execution_count": null,
   "id": "3df5304c-7c73-45bb-8d4d-94af87ac8dc3",
   "metadata": {},
   "outputs": [],
   "source": [
    "df1 = df1[~df1.isnull()]"
   ]
  },
  {
   "cell_type": "code",
   "execution_count": null,
   "id": "171c9318-b8cd-46d0-8018-0cac48888d96",
   "metadata": {},
   "outputs": [],
   "source": [
    "# let's fix the frequency:\n",
    "df1 = df1.asfreq('W').fillna(method='ffill')"
   ]
  },
  {
   "cell_type": "code",
   "execution_count": null,
   "id": "38a4ba79-453a-4e18-bbb5-652838270b90",
   "metadata": {},
   "outputs": [],
   "source": [
    "df1.index.freq"
   ]
  },
  {
   "cell_type": "code",
   "execution_count": null,
   "id": "c70e30be-4481-4aa4-9142-b3614dfb39e9",
   "metadata": {},
   "outputs": [],
   "source": [
    "import statsmodels.api as sm\n",
    "\n",
    "fig, axs = plt.subplots(2)\n",
    "sm.graphics.tsa.plot_pacf(df1, lags=20, ax=axs[0])\n",
    "axs[0].set_ylabel('R')\n",
    "axs[0].set_xlabel('Lag')\n",
    "sm.graphics.tsa.plot_acf(df1, lags=20, ax=axs[1]);\n",
    "axs[1].set_ylabel('R')\n",
    "axs[1].set_xlabel('Lag')\n",
    "fig.tight_layout()"
   ]
  },
  {
   "cell_type": "code",
   "execution_count": null,
   "id": "e88633cd-5542-4366-84bd-ef59e46f253a",
   "metadata": {},
   "outputs": [],
   "source": [
    "from statsmodels.tsa.seasonal import seasonal_decompose\n",
    "result = seasonal_decompose(df1, model='additive', period=52)\n",
    "result.plot();"
   ]
  },
  {
   "cell_type": "markdown",
   "id": "da2aa62a-fe40-49e2-b2d9-ebcb1a91cda8",
   "metadata": {},
   "source": [
    "# Finding a value for d"
   ]
  },
  {
   "cell_type": "markdown",
   "id": "fbeefe1e-67ce-403d-a990-a7cf19aa9318",
   "metadata": {},
   "source": [
    "We are using the ARCH package which has more convenient versions of both the ADF and the KPSS tests."
   ]
  },
  {
   "cell_type": "code",
   "execution_count": null,
   "id": "18eb1bc7-85a8-4380-8346-4c28aeb16116",
   "metadata": {},
   "outputs": [],
   "source": [
    "from arch.unitroot import KPSS, ADF\n",
    "\n",
    "ADF(df1)"
   ]
  },
  {
   "cell_type": "code",
   "execution_count": null,
   "id": "40bddaee-38d3-4d40-9773-e6a4721e4b62",
   "metadata": {},
   "outputs": [],
   "source": [
    "from pmdarima.arima.utils import ndiffs\n",
    "\n",
    "# ADF Test:\n",
    "ndiffs(df1, test='adf')  # 1; same values for the KPSS and the PP test"
   ]
  },
  {
   "cell_type": "code",
   "execution_count": null,
   "id": "6d3410b6-a2ab-40fb-a942-b1fcfd423512",
   "metadata": {},
   "outputs": [],
   "source": [
    "# what happens if we forget differencing?\n",
    "# We get a helful warning: 'Non-stationary starting autoregressive parameters'\n",
    "mod = sm.tsa.arima.ARIMA(endog=df1, order=(1, 0, 0))\n",
    "res = mod.fit()\n",
    "print(res.summary())"
   ]
  },
  {
   "cell_type": "code",
   "execution_count": null,
   "id": "12cf8ad9-bcd8-42c0-ad6f-164ff81d7dec",
   "metadata": {},
   "outputs": [],
   "source": [
    "# let's try again and this time, we'll take into account the seasonality:\n",
    "from statsmodels.tsa.forecasting.stl import STLForecast\n",
    "\n",
    "mod = STLForecast(df1, sm.tsa.arima.ARIMA, model_kwargs=dict(order=(1, 1, 0), trend=\"t\"))\n",
    "res = mod.fit().model_result\n",
    "print(res.summary())"
   ]
  },
  {
   "cell_type": "code",
   "execution_count": null,
   "id": "454a5679-45ac-45b5-860a-8a4685d7e9eb",
   "metadata": {},
   "outputs": [],
   "source": [
    "# doing a forecast:\n",
    "STEPS = 20\n",
    "forecasts_df = res.get_forecast(steps=STEPS).summary_frame() \n",
    "ax = df1.plot(figsize=(12, 6))\n",
    "plt.ylabel('SPY')\n",
    "forecasts_df['mean'].plot(style='k--')\n",
    "ax.fill_between(\n",
    "    forecasts_df.index,\n",
    "    forecasts_df['mean_ci_lower'],\n",
    "    forecasts_df['mean_ci_upper'],\n",
    "    color='k',\n",
    "    alpha=0.1\n",
    ")"
   ]
  },
  {
   "cell_type": "code",
   "execution_count": null,
   "id": "90cc47f4-1444-40af-9d84-e64e4518e0e0",
   "metadata": {},
   "outputs": [],
   "source": [
    "forecasts = []\n",
    "qs = []\n",
    "for q in range(0, 30, 10):\n",
    "    mod = STLForecast(df1, sm.tsa.arima.ARIMA, model_kwargs=dict(order=(0, 1, q), trend=\"t\"))\n",
    "    res = mod.fit().model_result\n",
    "    print(f\"aic ({q}): {res.aic}\")\n",
    "    forecasts.append(\n",
    "            res.get_forecast(steps=STEPS).summary_frame()['mean']\n",
    "        )\n",
    "    qs.append(q)\n",
    "\n",
    "forecasts_df = pd.concat(forecasts, axis=1)\n",
    "forecasts_df.columns = qs"
   ]
  },
  {
   "cell_type": "code",
   "execution_count": null,
   "id": "1afc0557-d41d-4540-95c5-9244b1ceca24",
   "metadata": {},
   "outputs": [],
   "source": [
    "# plotting the three forecasts:\n",
    "ax = df1.plot(figsize=(12, 6))\n",
    "plt.ylabel('SPY')\n",
    "forecasts_df.plot(ax=ax)"
   ]
  },
  {
   "cell_type": "code",
   "execution_count": null,
   "id": "f9b65061-b5ca-453f-92a9-b5c7341f8932",
   "metadata": {},
   "outputs": [],
   "source": [
    "mod = sm.tsa.ExponentialSmoothing(\n",
    "        endog=df1, trend='add', seasonal_periods=52, use_boxcox=True, initialization_method=\"heuristic\"\n",
    "    )\n",
    "res = mod.fit()\n",
    "print(res.summary())"
   ]
  },
  {
   "cell_type": "code",
   "execution_count": null,
   "id": "92209cc0-b046-4c5b-a9ee-4a3afb5d615a",
   "metadata": {},
   "outputs": [],
   "source": [
    "forecasts = pd.Series(res.forecast(steps=STEPS))\n",
    "ax = df1.plot(figsize=(12, 6))\n",
    "plt.ylabel('SPY')\n",
    "forecasts.plot(style='k--')"
   ]
  },
  {
   "cell_type": "code",
   "execution_count": null,
   "id": "c79a4000-663b-4264-a0f2-c00427ccfc11",
   "metadata": {},
   "outputs": [],
   "source": [
    "from statsmodels.tsa.forecasting.theta import ThetaModel\n",
    "\n",
    "train_length = int(len(df1) * 0.8)\n",
    "tm = ThetaModel(df1[:train_length], method=\"auto\", deseasonalize=True)\n",
    "res = tm.fit()\n",
    "forecasts = res.forecast(steps=len(df1)-train_length)\n",
    "ax = df1.plot(figsize=(12, 6))\n",
    "plt.ylabel('SPY')\n",
    "forecasts.plot(style='k--')"
   ]
  },
  {
   "cell_type": "code",
   "execution_count": null,
   "id": "949b7c6c-1326-44a6-8e5d-c58d0f4191e7",
   "metadata": {},
   "outputs": [],
   "source": [
    "from sklearn import metrics\n",
    "\n",
    "metrics.mean_squared_error(forecasts, df1[train_length:], squared=False)"
   ]
  },
  {
   "cell_type": "code",
   "execution_count": null,
   "id": "9733e78f-ee79-44c4-a26e-496670a68cad",
   "metadata": {},
   "outputs": [],
   "source": []
  }
 ],
 "metadata": {
  "kernelspec": {
   "display_name": "Python 3",
   "language": "python",
   "name": "python3"
  },
  "language_info": {
   "codemirror_mode": {
    "name": "ipython",
    "version": 3
   },
   "file_extension": ".py",
   "mimetype": "text/x-python",
   "name": "python",
   "nbconvert_exporter": "python",
   "pygments_lexer": "ipython3",
   "version": "3.8.8"
  }
 },
 "nbformat": 4,
 "nbformat_minor": 5
}
